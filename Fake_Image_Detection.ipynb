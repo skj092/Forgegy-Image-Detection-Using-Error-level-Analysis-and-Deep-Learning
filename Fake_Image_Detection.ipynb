{
  "nbformat": 4,
  "nbformat_minor": 0,
  "metadata": {
    "colab": {
      "provenance": [],
      "authorship_tag": "ABX9TyOAUWc+Rnqbt0hyhuYgSpYH",
      "include_colab_link": true
    },
    "kernelspec": {
      "name": "python3",
      "display_name": "Python 3"
    },
    "language_info": {
      "name": "python"
    },
    "accelerator": "GPU",
    "gpuClass": "standard"
  },
  "cells": [
    {
      "cell_type": "markdown",
      "metadata": {
        "id": "view-in-github",
        "colab_type": "text"
      },
      "source": [
        "<a href=\"https://colab.research.google.com/github/skj092/Real-vs-Fake-image/blob/main/Fake_Image_Detection.ipynb\" target=\"_parent\"><img src=\"https://colab.research.google.com/assets/colab-badge.svg\" alt=\"Open In Colab\"/></a>"
      ]
    },
    {
      "cell_type": "markdown",
      "source": [
        "# Downloading the Dataset"
      ],
      "metadata": {
        "id": "XT99oAy6v1Zb"
      }
    },
    {
      "cell_type": "code",
      "execution_count": 23,
      "metadata": {
        "id": "_cEFrH_FvDvK",
        "colab": {
          "base_uri": "https://localhost:8080/"
        },
        "outputId": "467ab2e1-a34c-43a0-ba4c-8601d89ef917"
      },
      "outputs": [
        {
          "output_type": "stream",
          "name": "stdout",
          "text": [
            "mkdir: cannot create directory ‘/root/.kaggle’: File exists\n",
            "casia-dataset.zip: Skipping, found more recently modified local copy (use --force to force download)\n"
          ]
        }
      ],
      "source": [
        "# %%bash\n",
        "!mkdir ~/.kaggle\n",
        "\n",
        "!chmod 600 /root/.kaggle/kaggle.json\n",
        "\n",
        "!cp kaggle.json ~/.kaggle\n",
        "\n",
        "!kaggle datasets download -d sophatvathana/casia-dataset"
      ]
    },
    {
      "cell_type": "code",
      "source": [
        "!unzip -q /content/casia-dataset.zip"
      ],
      "metadata": {
        "id": "eFJ4jqhsybYm"
      },
      "execution_count": 2,
      "outputs": []
    },
    {
      "cell_type": "markdown",
      "source": [
        "# Data Preprocessing"
      ],
      "metadata": {
        "id": "YROnATa_Pg1l"
      }
    },
    {
      "cell_type": "code",
      "source": [
        "# converting image to ela image\n",
        "from glob import glob \n",
        "from tqdm import tqdm\n",
        "from PIL import Image, ImageChops, ImageEnhance\n",
        "import os \n",
        "\n",
        "def convert_to_ela_image(image_path, quality=90):\n",
        "    \"\"\"Converts an image to an ELA image.\n",
        "    :param image_path: Path to the image\n",
        "    :param quality: Quality of the image to be saved\n",
        "    :return: ELA image\n",
        "    \"\"\"\n",
        "    # Save the image at the given quality\n",
        "    temp_file = 'temp.jpg'\n",
        "    im = Image.open(image_path)\n",
        "    im.save(temp_file, 'JPEG', quality=quality)\n",
        "\n",
        "    # Open the saved image and the original image\n",
        "    saved = Image.open(temp_file)\n",
        "    orignal = Image.open(image_path)\n",
        "\n",
        "    # Find the absolute difference between the images\n",
        "    diff = ImageChops.difference(orignal, saved)\n",
        "\n",
        "    # Normalize the difference by multiplying with a scale factor and convert to grayscale\n",
        "    extrema = diff.getextrema()\n",
        "    max_diff = max([ex[1] for ex in extrema])\n",
        "    scale = 255.0 / max_diff\n",
        "    diff = ImageEnhance.Brightness(diff).enhance(scale)\n",
        "\n",
        "    # Remove the temporary file\n",
        "    os.remove(temp_file)\n",
        "\n",
        "    return diff"
      ],
      "metadata": {
        "id": "p1HWWWf398N9"
      },
      "execution_count": 14,
      "outputs": []
    },
    {
      "cell_type": "code",
      "source": [
        "# all iamges\n",
        "images = glob('/content/CASIA2/*/*.jpg')\n",
        "print('Total images: ', len(images))"
      ],
      "metadata": {
        "colab": {
          "base_uri": "https://localhost:8080/"
        },
        "id": "bgTb2kQxAYcp",
        "outputId": "f7a18fb8-6d81-4385-ae6e-46138e1869a3"
      },
      "execution_count": 19,
      "outputs": [
        {
          "output_type": "stream",
          "name": "stdout",
          "text": [
            "Total images:  9418\n"
          ]
        }
      ]
    },
    {
      "cell_type": "code",
      "source": [
        "# converting images to ela images\n",
        "for image in tqdm(images):\n",
        "    # converting image to ela image\n",
        "    ela_image = convert_to_ela_image(image)\n",
        "    # creating a new directory for ela images\n",
        "    if not os.path.exists('/content/CASIA2_ELA'):\n",
        "      os.mkdir('/content/CASIA2_ELA')\n",
        "    ela_image.save('/content/CASIA2_ELA/' + image.split('/')[-1])"
      ],
      "metadata": {
        "colab": {
          "base_uri": "https://localhost:8080/"
        },
        "id": "UY6qYRrHD2Ku",
        "outputId": "23c861e8-2a4e-44f9-af2d-825fef282880"
      },
      "execution_count": 22,
      "outputs": [
        {
          "output_type": "stream",
          "name": "stderr",
          "text": [
            "100%|██████████| 9418/9418 [03:19<00:00, 47.12it/s]\n"
          ]
        }
      ]
    },
    {
      "cell_type": "markdown",
      "source": [
        "# Creating Custom PyTorch DataLoader"
      ],
      "metadata": {
        "id": "VUoadF0jPkmQ"
      }
    },
    {
      "cell_type": "code",
      "source": [
        "# importing the datasets \n",
        "from torch.utils.data import Dataset, DataLoader, Subset, random_split\n",
        "from glob import glob\n",
        "from torchvision import transforms\n",
        "from PIL import Image\n",
        "\n",
        "# creating a class for the dataset\n",
        "class CASIA2_ELA(Dataset):\n",
        "    def __init__(self, images, transform=None):\n",
        "        self.images = images\n",
        "        self.transform = transform\n",
        "\n",
        "    def __len__(self):\n",
        "        return len(self.images)\n",
        "\n",
        "    def __getitem__(self, idx):\n",
        "        image = self.images[idx]\n",
        "        label = image.split(\"\\\\\")[-1].split(\"_\")[0]\n",
        "        label = 1 if label == \"Tp\" else 0\n",
        "        image = Image.open(image)\n",
        "        if self.transform:\n",
        "            image = self.transform(image)\n",
        "        return image, torch.tensor(label, dtype=torch.float32)\n",
        "\n",
        "# testing the dataset\n",
        "def test():\n",
        "    all_images = glob(\"/content/CASIA2_ELA/*.jpg\")\n",
        "    print('total images: ', len(all_images))\n",
        "    transform = transforms.Compose([\n",
        "        transforms.Resize((224, 224)),\n",
        "        transforms.ToTensor()\n",
        "    ])\n",
        "    dataset = CASIA2_ELA(all_images, transform=transform)\n",
        "    print(dataset[0][0].shape)\n",
        "    print(dataset[0][1])\n",
        "\n",
        "if __name__ == \"__main__\":\n",
        "    test()"
      ],
      "metadata": {
        "id": "RyV1C_l1MLxr",
        "outputId": "73c2cb5f-50fe-46fc-dada-c6795a58fdee",
        "colab": {
          "base_uri": "https://localhost:8080/"
        }
      },
      "execution_count": 80,
      "outputs": [
        {
          "output_type": "stream",
          "name": "stdout",
          "text": [
            "total images:  9418\n",
            "torch.Size([3, 224, 224])\n",
            "tensor(0.)\n"
          ]
        }
      ]
    },
    {
      "cell_type": "code",
      "source": [
        "# from dataset import CASIA2_ELA\n",
        "from torchvision import models\n",
        "from torch import nn, optim\n",
        "import torch \n",
        "\n",
        "device = device = torch.device(\"cuda\" if torch.cuda.is_available() else \"cpu\")\n",
        "\n",
        "all_images = glob(\"/content/CASIA2_ELA/*.jpg\")\n",
        "print('total images: ', len(all_images))\n",
        "transform = transforms.Compose([\n",
        "    transforms.Resize((224, 224)),\n",
        "    transforms.ToTensor()\n",
        "])\n",
        "dataset = CASIA2_ELA(all_images, transform=transform)\n",
        "# split the dataset into train and test\n",
        "train_size = int(0.8 * len(dataset))\n",
        "test_size = len(dataset) - train_size\n",
        "train_dataset, test_dataset = random_split(dataset, [train_size, test_size])\n",
        "\n",
        "# create the dataloaders\n",
        "train_loader = DataLoader(train_dataset, batch_size=32, shuffle=True)\n",
        "test_loader = DataLoader(test_dataset, batch_size=32, shuffle=True)"
      ],
      "metadata": {
        "id": "ZoARsbRGM5_L",
        "outputId": "cedc1df9-08e6-4fc4-8a9d-8f6a42c28e82",
        "colab": {
          "base_uri": "https://localhost:8080/"
        }
      },
      "execution_count": 81,
      "outputs": [
        {
          "output_type": "stream",
          "name": "stdout",
          "text": [
            "total images:  9418\n"
          ]
        }
      ]
    },
    {
      "cell_type": "markdown",
      "source": [
        "**Testing Dataloader**"
      ],
      "metadata": {
        "id": "LK5PMLNcPsq4"
      }
    },
    {
      "cell_type": "code",
      "source": [
        "for xb, yb in train_loader:\n",
        "  print(xb.shape, yb.shape)\n",
        "  break "
      ],
      "metadata": {
        "id": "9tR3cWODM6wM",
        "outputId": "72647987-ac82-430a-b8ca-0b42513d59ba",
        "colab": {
          "base_uri": "https://localhost:8080/"
        }
      },
      "execution_count": 82,
      "outputs": [
        {
          "output_type": "stream",
          "name": "stdout",
          "text": [
            "torch.Size([32, 3, 224, 224]) torch.Size([32])\n"
          ]
        }
      ]
    },
    {
      "cell_type": "markdown",
      "source": [
        "# Model"
      ],
      "metadata": {
        "id": "0lyliCwxPv6d"
      }
    },
    {
      "cell_type": "code",
      "source": [
        "# create the model\n",
        "model = models.resnet18(pretrained=True)\n",
        "model.fc = nn.Linear(512, 1)\n",
        "model = model.to(device)"
      ],
      "metadata": {
        "id": "DfHzcIzYNHWJ"
      },
      "execution_count": 83,
      "outputs": []
    },
    {
      "cell_type": "markdown",
      "source": [
        "# Training Function"
      ],
      "metadata": {
        "id": "W_TWWeJQPpjv"
      }
    },
    {
      "cell_type": "code",
      "source": [
        "# train the model\n",
        "def train(model, train_loader, test_loader, criterion, optimizer, epochs=10):\n",
        "    for epoch in range(epochs):\n",
        "        model.train()\n",
        "        train_loss = 0\n",
        "        for batch in train_loader:\n",
        "            images, labels = batch\n",
        "            images = images.to(device)\n",
        "            labels = labels.to(device)\n",
        "            optimizer.zero_grad()\n",
        "            outputs = model(images)\n",
        "            loss = criterion(outputs, labels.unsqueeze(1))\n",
        "            loss.backward()\n",
        "            optimizer.step()\n",
        "            train_loss += loss.item()\n",
        "        train_loss /= len(train_loader)\n",
        "        print(f\"Epoch: {epoch+1}/{epochs}.. Train loss: {train_loss:.3f}\")\n",
        "\n",
        "        model.eval()\n",
        "        test_loss = 0\n",
        "        with torch.no_grad():\n",
        "            for batch in test_loader:\n",
        "                images, labels = batch\n",
        "                images = images.to(device)\n",
        "                labels = labels.to(device)\n",
        "                outputs = model(images)\n",
        "                loss = criterion(outputs, labels.unsqueeze(1))\n",
        "                test_loss += loss.item()\n",
        "        test_loss /= len(test_loader)\n",
        "        print(f\"Epoch: {epoch+1}/{epochs}.. Test loss: {test_loss:.3f}\")\n",
        "    \n",
        "    return model"
      ],
      "metadata": {
        "id": "tMa3pP_aPJve"
      },
      "execution_count": null,
      "outputs": []
    },
    {
      "cell_type": "code",
      "source": [
        "# define the loss function and optimizer\n",
        "criterion = nn.BCEWithLogitsLoss()\n",
        "optimizer = optim.Adam(model.parameters(), lr=0.001)\n",
        "# model = train(model, train_loader, test_loader, criterion, optimizer, epochs=10)\n",
        "\n",
        "# # save the model\n",
        "# torch.save(model.state_dict(), \"model.pth\")\n",
        "\n",
        "# # load the model\n",
        "# model.load_state_dict(torch.load(\"model.pth\"))"
      ],
      "metadata": {
        "id": "AWr7z7k0MYJA"
      },
      "execution_count": 86,
      "outputs": []
    },
    {
      "cell_type": "markdown",
      "source": [
        "**Testing training loop**"
      ],
      "metadata": {
        "id": "t-Pf_VGIQhkl"
      }
    },
    {
      "cell_type": "code",
      "source": [
        "for xb, yb in train_loader:\n",
        "  xb, yb = xb.to(device), yb.to(device)\n",
        "  print(xb.shape, yb.shape)\n",
        "  yb_ = model(xb)\n",
        "  loss = criterion(yb_, yb.unsqueeze(1))\n",
        "  loss.backward()\n",
        "  batch_acc = accuracy_score(yb.cpu().detach().numpy(), yb_.cpu().detach().numpy().round())\n",
        "  print('loss', loss)\n",
        "  print('acc', batch_acc)\n",
        "  break"
      ],
      "metadata": {
        "id": "EXvw0pLRSGRN",
        "outputId": "1f83dcb1-88d7-459a-ff59-5e97852db6e9",
        "colab": {
          "base_uri": "https://localhost:8080/"
        }
      },
      "execution_count": 96,
      "outputs": [
        {
          "output_type": "stream",
          "name": "stdout",
          "text": [
            "torch.Size([32, 3, 224, 224]) torch.Size([32])\n",
            "loss tensor(0., device='cuda:0', grad_fn=<BinaryCrossEntropyWithLogitsBackward0>)\n",
            "acc 0.0\n"
          ]
        }
      ]
    },
    {
      "cell_type": "code",
      "source": [
        "from sklearn.metrics import accuracy_score\n",
        "def train_model(model, train_loader, val_loader, criterion, optimizer, num_epochs, device):\n",
        "    train_loss, val_loss, train_acc, val_acc = [], [], [], []\n",
        "    for epoch in range(num_epochs):\n",
        "        model.train()\n",
        "        for xb, yb in tqdm(train_loader):\n",
        "            xb, yb = xb.to(device), yb.to(device)\n",
        "            optimizer.zero_grad()\n",
        "            yb_ = model(xb)\n",
        "            loss = criterion(yb_, yb.unsqueeze(1))\n",
        "            loss.backward()\n",
        "            optimizer.step()\n",
        "            train_loss.append(loss.item())\n",
        "            batch_acc = accuracy_score(yb.cpu().detach().numpy(), yb_.cpu().detach().numpy().round())\n",
        "            train_acc.append(batch_acc)\n",
        "        model.eval()\n",
        "        with torch.no_grad():\n",
        "            for xb, yb in tqdm(val_loader):\n",
        "                xb, yb = xb.to(device), yb.to(device)\n",
        "                yb_ = model(xb)\n",
        "                loss = criterion(yb_, yb.unsqueeze(1))\n",
        "                val_loss.append(loss.item())\n",
        "                batch_acc = accuracy_score(yb.cpu().detach().numpy(), yb_.cpu().detach().numpy().round())\n",
        "                val_acc.append(batch_acc)\n",
        "        print(f'Epoch: {epoch+1}, Train Loss: {torch.tensor(train_loss).mean():.4f}, Train Accuracy: {torch.tensor(train_acc).mean():.4f}, Val Loss: {torch.tensor(val_loss).mean():.4f}, Val Accuracy: {torch.tensor(val_acc).mean():.4f}')\n",
        "      "
      ],
      "metadata": {
        "id": "DGgUtM7uMyls"
      },
      "execution_count": 89,
      "outputs": []
    },
    {
      "cell_type": "code",
      "source": [
        "train_model(model, train_loader, test_loader, criterion, optimizer, num_epochs=10, device=device)"
      ],
      "metadata": {
        "id": "l6zkYZGEQHQU",
        "outputId": "ea82e8b3-899a-4bdd-baac-ac50d4455eb4",
        "colab": {
          "base_uri": "https://localhost:8080/",
          "height": 408
        }
      },
      "execution_count": 91,
      "outputs": [
        {
          "output_type": "stream",
          "name": "stderr",
          "text": [
            "100%|██████████| 236/236 [00:53<00:00,  4.44it/s]\n",
            "100%|██████████| 59/59 [00:10<00:00,  5.52it/s]\n"
          ]
        },
        {
          "output_type": "stream",
          "name": "stdout",
          "text": [
            "Epoch: 1, Train Loss: 0.0000, Train Accuracy: 0.0000, Val Loss: 0.0000, Val Accuracy: 0.0000\n"
          ]
        },
        {
          "output_type": "stream",
          "name": "stderr",
          "text": [
            "100%|██████████| 236/236 [00:51<00:00,  4.58it/s]\n",
            "100%|██████████| 59/59 [00:09<00:00,  6.43it/s]\n"
          ]
        },
        {
          "output_type": "stream",
          "name": "stdout",
          "text": [
            "Epoch: 2, Train Loss: 0.0000, Train Accuracy: 0.0000, Val Loss: 0.0000, Val Accuracy: 0.0000\n"
          ]
        },
        {
          "output_type": "stream",
          "name": "stderr",
          "text": [
            " 59%|█████▉    | 139/236 [00:30<00:21,  4.62it/s]\n"
          ]
        },
        {
          "output_type": "error",
          "ename": "KeyboardInterrupt",
          "evalue": "ignored",
          "traceback": [
            "\u001b[0;31m---------------------------------------------------------------------------\u001b[0m",
            "\u001b[0;31mKeyboardInterrupt\u001b[0m                         Traceback (most recent call last)",
            "\u001b[0;32m<ipython-input-91-275413e1e794>\u001b[0m in \u001b[0;36m<module>\u001b[0;34m\u001b[0m\n\u001b[0;32m----> 1\u001b[0;31m \u001b[0mtrain_model\u001b[0m\u001b[0;34m(\u001b[0m\u001b[0mmodel\u001b[0m\u001b[0;34m,\u001b[0m \u001b[0mtrain_loader\u001b[0m\u001b[0;34m,\u001b[0m \u001b[0mtest_loader\u001b[0m\u001b[0;34m,\u001b[0m \u001b[0mcriterion\u001b[0m\u001b[0;34m,\u001b[0m \u001b[0moptimizer\u001b[0m\u001b[0;34m,\u001b[0m \u001b[0mnum_epochs\u001b[0m\u001b[0;34m=\u001b[0m\u001b[0;36m10\u001b[0m\u001b[0;34m,\u001b[0m \u001b[0mdevice\u001b[0m\u001b[0;34m=\u001b[0m\u001b[0mdevice\u001b[0m\u001b[0;34m)\u001b[0m\u001b[0;34m\u001b[0m\u001b[0;34m\u001b[0m\u001b[0m\n\u001b[0m",
            "\u001b[0;32m<ipython-input-89-019e32518438>\u001b[0m in \u001b[0;36mtrain_model\u001b[0;34m(model, train_loader, val_loader, criterion, optimizer, num_epochs, device)\u001b[0m\n\u001b[1;32m     11\u001b[0m             \u001b[0mloss\u001b[0m\u001b[0;34m.\u001b[0m\u001b[0mbackward\u001b[0m\u001b[0;34m(\u001b[0m\u001b[0;34m)\u001b[0m\u001b[0;34m\u001b[0m\u001b[0;34m\u001b[0m\u001b[0m\n\u001b[1;32m     12\u001b[0m             \u001b[0moptimizer\u001b[0m\u001b[0;34m.\u001b[0m\u001b[0mstep\u001b[0m\u001b[0;34m(\u001b[0m\u001b[0;34m)\u001b[0m\u001b[0;34m\u001b[0m\u001b[0;34m\u001b[0m\u001b[0m\n\u001b[0;32m---> 13\u001b[0;31m             \u001b[0mtrain_loss\u001b[0m\u001b[0;34m.\u001b[0m\u001b[0mappend\u001b[0m\u001b[0;34m(\u001b[0m\u001b[0mloss\u001b[0m\u001b[0;34m.\u001b[0m\u001b[0mitem\u001b[0m\u001b[0;34m(\u001b[0m\u001b[0;34m)\u001b[0m\u001b[0;34m)\u001b[0m\u001b[0;34m\u001b[0m\u001b[0;34m\u001b[0m\u001b[0m\n\u001b[0m\u001b[1;32m     14\u001b[0m             \u001b[0mbatch_acc\u001b[0m \u001b[0;34m=\u001b[0m \u001b[0maccuracy_score\u001b[0m\u001b[0;34m(\u001b[0m\u001b[0myb\u001b[0m\u001b[0;34m.\u001b[0m\u001b[0mcpu\u001b[0m\u001b[0;34m(\u001b[0m\u001b[0;34m)\u001b[0m\u001b[0;34m.\u001b[0m\u001b[0mdetach\u001b[0m\u001b[0;34m(\u001b[0m\u001b[0;34m)\u001b[0m\u001b[0;34m.\u001b[0m\u001b[0mnumpy\u001b[0m\u001b[0;34m(\u001b[0m\u001b[0;34m)\u001b[0m\u001b[0;34m,\u001b[0m \u001b[0myb_\u001b[0m\u001b[0;34m.\u001b[0m\u001b[0mcpu\u001b[0m\u001b[0;34m(\u001b[0m\u001b[0;34m)\u001b[0m\u001b[0;34m.\u001b[0m\u001b[0mdetach\u001b[0m\u001b[0;34m(\u001b[0m\u001b[0;34m)\u001b[0m\u001b[0;34m.\u001b[0m\u001b[0mnumpy\u001b[0m\u001b[0;34m(\u001b[0m\u001b[0;34m)\u001b[0m\u001b[0;34m.\u001b[0m\u001b[0mround\u001b[0m\u001b[0;34m(\u001b[0m\u001b[0;34m)\u001b[0m\u001b[0;34m)\u001b[0m\u001b[0;34m\u001b[0m\u001b[0;34m\u001b[0m\u001b[0m\n\u001b[1;32m     15\u001b[0m             \u001b[0mtrain_acc\u001b[0m\u001b[0;34m.\u001b[0m\u001b[0mappend\u001b[0m\u001b[0;34m(\u001b[0m\u001b[0mbatch_acc\u001b[0m\u001b[0;34m)\u001b[0m\u001b[0;34m\u001b[0m\u001b[0;34m\u001b[0m\u001b[0m\n",
            "\u001b[0;31mKeyboardInterrupt\u001b[0m: "
          ]
        }
      ]
    },
    {
      "cell_type": "code",
      "source": [],
      "metadata": {
        "id": "juZ6uStdRYkl"
      },
      "execution_count": null,
      "outputs": []
    }
  ]
}